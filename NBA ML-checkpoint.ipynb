{
 "cells": [
  {
   "cell_type": "code",
   "execution_count": 70,
   "metadata": {},
   "outputs": [],
   "source": [
    "import pandas as pd \n",
    "import sqlite3 as sq\n",
    "from sqlalchemy import create_engine\n",
    "import matplotlib.pyplot as plt"
   ]
  },
  {
   "cell_type": "code",
   "execution_count": null,
   "metadata": {},
   "outputs": [],
   "source": []
  },
  {
   "cell_type": "code",
   "execution_count": 71,
   "metadata": {},
   "outputs": [],
   "source": [
    "engine=create_engine(r\"sqlite:///C:\\Users\\Lopezped\\Documents\\GitHub\\NBA-Database-Creator\\NBA_data.db\")"
   ]
  },
  {
   "cell_type": "code",
   "execution_count": 72,
   "metadata": {},
   "outputs": [],
   "source": [
    "connection = sq.connect(\"NBA_data.db\")\n",
    "c = connection.cursor()"
   ]
  },
  {
   "cell_type": "code",
   "execution_count": 73,
   "metadata": {},
   "outputs": [
    {
     "data": {
      "text/plain": [
       "['Player Contracts', 'Player Totals']"
      ]
     },
     "execution_count": 73,
     "metadata": {},
     "output_type": "execute_result"
    }
   ],
   "source": [
    "engine.table_names()"
   ]
  },
  {
   "cell_type": "code",
   "execution_count": 74,
   "metadata": {},
   "outputs": [],
   "source": [
    "contracts = pd.read_sql_table(table_name=\"Player Contracts\", con = engine)\n",
    "totals = pd.read_sql_table(table_name=\"Player Totals\", con = engine)"
   ]
  },
  {
   "cell_type": "code",
   "execution_count": null,
   "metadata": {},
   "outputs": [],
   "source": []
  },
  {
   "cell_type": "code",
   "execution_count": 75,
   "metadata": {},
   "outputs": [
    {
     "name": "stdout",
     "output_type": "stream",
     "text": [
      "              Player     2018-19\n",
      "0      Stephen Curry  37457154.0\n",
      "1         Chris Paul  35654150.0\n",
      "2       LeBron James  35654150.0\n",
      "3  Russell Westbrook  35350000.0\n",
      "4      Blake Griffin  31873932.0\n"
     ]
    }
   ],
   "source": [
    "df_contracts= contracts.drop(labels=[\"Tm\", \"2019-20\", \"2020-21\", \"2021-22\", \"2022-23\", \"2023-24\", \"Signed Using\", \"Guaranteed\"], axis=1).drop_duplicates(\"Player\")\n",
    "print(df_contracts.head(5))"
   ]
  },
  {
   "cell_type": "code",
   "execution_count": 76,
   "metadata": {},
   "outputs": [
    {
     "name": "stdout",
     "output_type": "stream",
     "text": [
      "                    Player Pos Age   Tm     G    GS      MP     FG     FGA  \\\n",
      "0             Alex Abrines  SG  24  OKC  75.0   8.0  1134.0  115.0   291.0   \n",
      "1             Steven Adams   C  24  OKC  76.0  76.0  2487.0  448.0   712.0   \n",
      "2              Bam Adebayo   C  20  MIA  69.0  19.0  1368.0  174.0   340.0   \n",
      "3             Cole Aldrich   C  29  MIN  21.0   0.0    49.0    5.0    15.0   \n",
      "4        LaMarcus Aldridge   C  32  SAS  75.0  75.0  2509.0  687.0  1347.0   \n",
      "5            Jarrett Allen   C  19  BRK  72.0  31.0  1441.0  234.0   397.0   \n",
      "6          Al-Farouq Aminu  PF  27  POR  69.0  67.0  2072.0  230.0   582.0   \n",
      "7          Justin Anderson  SF  24  PHI  38.0   0.0   519.0   87.0   202.0   \n",
      "8            Kyle Anderson  SF  24  SAS  74.0  67.0  1978.0  231.0   438.0   \n",
      "9            Ryan Anderson  PF  29  HOU  66.0  50.0  1725.0  207.0   480.0   \n",
      "10            Ike Anigbogu   C  19  IND  11.0   0.0    30.0    4.0     9.0   \n",
      "11   Giannis Antetokounmpo  PF  23  MIL  75.0  75.0  2756.0  742.0  1402.0   \n",
      "12         Carmelo Anthony  PF  33  OKC  78.0  78.0  2501.0  472.0  1168.0   \n",
      "13              OG Anunoby  SF  20  TOR  74.0  62.0  1481.0  163.0   346.0   \n",
      "14        Ryan Arcidiacono  PG  23  CHI  24.0   0.0   304.0   17.0    41.0   \n",
      "15            Trevor Ariza  SF  32  HOU  67.0  67.0  2269.0  268.0   651.0   \n",
      "16          Darrell Arthur  PF  29  DEN  19.0   1.0   141.0   22.0    47.0   \n",
      "17               Omer Asik   C  31  TOT  18.0   0.0   182.0    9.0    22.0   \n",
      "18               Omer Asik   C  31  NOP  14.0   0.0   121.0    7.0    16.0   \n",
      "19               Omer Asik   C  31  CHI   4.0   0.0    61.0    2.0     6.0   \n",
      "20           D.J. Augustin  PG  30  ORL  75.0  36.0  1760.0  244.0   540.0   \n",
      "21            Dwayne Bacon  SG  22  CHO  53.0   6.0   713.0   72.0   192.0   \n",
      "22               Ron Baker  SG  24  NYK  29.0   1.0   385.0   20.0    59.0   \n",
      "23            Wade Baldwin  PG  21  POR   7.0   0.0    80.0   14.0    21.0   \n",
      "24              Lonzo Ball  PG  20  LAL  52.0  50.0  1780.0  203.0   564.0   \n",
      "25              J.J. Barea  PG  33  DAL  69.0  10.0  1603.0  303.0   690.0   \n",
      "26         Harrison Barnes  PF  25  DAL  77.0  77.0  2634.0  537.0  1208.0   \n",
      "27             Will Barton  SG  27  DEN  81.0  40.0  2683.0  465.0  1028.0   \n",
      "28           Nicolas Batum  SG  29  CHO  64.0  64.0  1981.0  270.0   650.0   \n",
      "29          Jerryd Bayless  SG  29  PHI  39.0  11.0   925.0  109.0   262.0   \n",
      "..                     ...  ..  ..  ...   ...   ...     ...    ...     ...   \n",
      "446         Nikola Vucevic   C  27  ORL  57.0  57.0  1683.0  399.0   840.0   \n",
      "447            Dwyane Wade  SG  36  TOT  67.0   3.0  1536.0  299.0   682.0   \n",
      "448            Dwyane Wade  SG  36  CLE  46.0   3.0  1069.0  198.0   435.0   \n",
      "449            Dwyane Wade  SG  36  MIA  21.0   0.0   467.0  101.0   247.0   \n",
      "450           Dion Waiters  SG  26  MIA  30.0  30.0   918.0  163.0   410.0   \n",
      "451           Kemba Walker  PG  27  CHO  80.0  80.0  2736.0  588.0  1363.0   \n",
      "452              John Wall  PG  27  WAS  41.0  41.0  1410.0  280.0   667.0   \n",
      "453         Tyrone Wallace  PG  23  LAC  30.0  19.0   851.0  110.0   247.0   \n",
      "454  Taurean Waller-Prince  SF  23  ATL  82.0  82.0  2464.0  415.0   975.0   \n",
      "455            T.J. Warren  SF  24  PHO  65.0  65.0  2142.0  529.0  1063.0   \n",
      "456      Russell Westbrook  PG  29  OKC  80.0  80.0  2914.0  757.0  1687.0   \n",
      "457          Derrick White  PG  23  SAS  17.0   0.0   139.0   16.0    33.0   \n",
      "458       Hassan Whiteside   C  28  MIA  54.0  54.0  1364.0  312.0   578.0   \n",
      "459         Andrew Wiggins  SF  22  MIN  82.0  82.0  2979.0  569.0  1300.0   \n",
      "460           Lou Williams  SG  31  LAC  79.0  19.0  2589.0  582.0  1337.0   \n",
      "461        Marvin Williams  PF  31  CHO  78.0  78.0  2006.0  258.0   563.0   \n",
      "462          Troy Williams  SF  23  TOT  21.0   1.0   307.0   51.0   109.0   \n",
      "463          Troy Williams  SF  23  HOU   4.0   0.0    17.0    2.0     9.0   \n",
      "464          Troy Williams  SF  23  NYK  17.0   1.0   290.0   49.0   100.0   \n",
      "465            D.J. Wilson  PF  21  MIL  22.0   0.0    71.0    9.0    16.0   \n",
      "466        Justise Winslow  PF  21  MIA  68.0  25.0  1680.0  207.0   488.0   \n",
      "467           Delon Wright  PG  25  TOR  69.0   4.0  1433.0  201.0   432.0   \n",
      "468     Guerschon Yabusele  PF  22  BOS  33.0   4.0   235.0   26.0    61.0   \n",
      "469         Thaddeus Young  PF  29  IND  81.0  81.0  2607.0  421.0   864.0   \n",
      "470            Cody Zeller   C  25  CHO  33.0   0.0   627.0   85.0   156.0   \n",
      "471           Tyler Zeller   C  28  TOT  66.0  34.0  1109.0  187.0   334.0   \n",
      "472           Tyler Zeller   C  28  BRK  42.0  33.0   703.0  125.0   229.0   \n",
      "473           Tyler Zeller   C  28  MIL  24.0   1.0   406.0   62.0   105.0   \n",
      "474             Ante Zizic   C  21  CLE  32.0   2.0   214.0   49.0    67.0   \n",
      "475            Ivica Zubac   C  20  LAL  43.0   0.0   410.0   61.0   122.0   \n",
      "\n",
      "       FG%     ...         PF     PTS   MP/G  TRB/G  AST/G  STL/G  BLK/G  \\\n",
      "0    0.395     ...      124.0   353.0  15.12   1.52   0.37   0.51   0.11   \n",
      "1    0.629     ...      215.0  1056.0  32.72   9.01   1.16   1.21   1.03   \n",
      "2    0.512     ...      138.0   477.0  19.83   5.52   1.46   0.46   0.59   \n",
      "3    0.333     ...       11.0    12.0   2.33   0.71   0.14   0.10   0.05   \n",
      "4    0.510     ...      161.0  1735.0  33.45   8.47   2.03   0.57   1.20   \n",
      "5    0.589     ...      147.0   587.0  20.01   5.39   0.68   0.39   1.22   \n",
      "6    0.395     ...      136.0   644.0  30.03   7.61   1.22   1.14   0.58   \n",
      "7    0.431     ...       54.0   236.0  13.66   2.45   0.66   0.39   0.18   \n",
      "8    0.527     ...      114.0   585.0  26.73   5.35   2.73   1.55   0.81   \n",
      "9    0.431     ...      126.0   617.0  26.14   5.02   0.91   0.36   0.32   \n",
      "10   0.444     ...        1.0    13.0   2.73   0.82   0.00   0.09   0.27   \n",
      "11   0.529     ...      231.0  2014.0  36.75  10.04   4.81   1.45   1.41   \n",
      "12   0.404     ...      197.0  1261.0  32.06   5.81   1.32   0.60   0.63   \n",
      "13   0.471     ...      130.0   438.0  20.01   2.49   0.74   0.70   0.19   \n",
      "14   0.415     ...       18.0    48.0  12.67   1.04   1.46   0.54   0.00   \n",
      "15   0.412     ...      132.0   782.0  33.87   4.39   1.57   1.46   0.19   \n",
      "16   0.468     ...       22.0    54.0   7.42   0.79   0.47   0.42   0.16   \n",
      "17   0.409     ...       20.0    22.0  10.11   2.61   0.17   0.11   0.22   \n",
      "18   0.438     ...       14.0    18.0   8.64   2.64   0.14   0.07   0.14   \n",
      "19   0.333     ...        6.0     4.0  15.25   2.50   0.25   0.25   0.50   \n",
      "20   0.452     ...       94.0   766.0  23.47   2.13   3.83   0.72   0.00   \n",
      "21   0.375     ...       46.0   175.0  13.45   2.34   0.72   0.30   0.04   \n",
      "22   0.339     ...       33.0    71.0  13.28   1.03   1.62   0.90   0.21   \n",
      "23   0.667     ...       12.0    38.0  11.43   1.14   0.71   0.29   0.14   \n",
      "24   0.360     ...      117.0   528.0  34.23   6.92   7.23   1.69   0.83   \n",
      "25   0.439     ...       83.0   801.0  23.23   2.91   6.29   0.51   0.04   \n",
      "26   0.445     ...       94.0  1452.0  34.21   6.08   1.97   0.64   0.18   \n",
      "27   0.452     ...      168.0  1268.0  33.12   5.05   4.09   1.01   0.64   \n",
      "28   0.415     ...       72.0   740.0  30.95   4.78   5.45   1.02   0.36   \n",
      "29   0.416     ...       91.0   307.0  23.72   2.05   1.38   0.59   0.15   \n",
      "..     ...     ...        ...     ...    ...    ...    ...    ...    ...   \n",
      "446  0.475     ...      144.0   939.0  29.53   9.18   3.35   0.98   1.09   \n",
      "447  0.438     ...      124.0   765.0  22.93   3.76   3.40   0.91   0.70   \n",
      "448  0.455     ...       84.0   513.0  23.24   3.93   3.54   0.91   0.70   \n",
      "449  0.409     ...       40.0   252.0  22.24   3.38   3.10   0.90   0.71   \n",
      "450  0.398     ...       61.0   429.0  30.60   2.57   3.77   0.77   0.30   \n",
      "451  0.431     ...       98.0  1770.0  34.20   3.10   5.55   1.14   0.30   \n",
      "452  0.420     ...       80.0   797.0  34.39   3.66   9.59   1.39   1.10   \n",
      "453  0.445     ...       83.0   291.0  28.37   3.50   2.37   0.90   0.43   \n",
      "454  0.426     ...      168.0  1158.0  30.05   4.74   2.61   1.04   0.51   \n",
      "455  0.498     ...      149.0  1271.0  32.95   5.12   1.31   1.00   0.63   \n",
      "456  0.449     ...      200.0  2028.0  36.42  10.05  10.25   1.84   0.25   \n",
      "457  0.485     ...        8.0    54.0   8.18   1.53   0.53   0.24   0.18   \n",
      "458  0.540     ...      131.0   754.0  25.26  11.44   1.00   0.69   1.74   \n",
      "459  0.438     ...      163.0  1452.0  36.33   4.37   1.95   1.11   0.62   \n",
      "460  0.435     ...      106.0  1782.0  32.77   2.51   5.28   1.08   0.24   \n",
      "461  0.458     ...      116.0   744.0  25.72   4.74   1.23   0.72   0.49   \n",
      "462  0.468     ...       34.0   133.0  14.62   3.00   0.76   0.95   0.19   \n",
      "463  0.222     ...        2.0     5.0   4.25   1.00   0.25   0.25   0.00   \n",
      "464  0.490     ...       32.0   128.0  17.06   3.47   0.88   1.12   0.24   \n",
      "465  0.563     ...        7.0    21.0   3.23   0.45   0.14   0.14   0.05   \n",
      "466  0.424     ...      140.0   529.0  24.71   5.44   2.18   0.79   0.49   \n",
      "467  0.465     ...       81.0   555.0  20.77   2.87   2.90   1.04   0.48   \n",
      "468  0.426     ...       23.0    79.0   7.12   1.58   0.48   0.12   0.15   \n",
      "469  0.487     ...      175.0   955.0  32.19   6.32   1.88   1.67   0.44   \n",
      "470  0.545     ...       81.0   233.0  19.00   5.36   0.94   0.42   0.64   \n",
      "471  0.560     ...      126.0   441.0  16.80   4.62   0.71   0.23   0.53   \n",
      "472  0.546     ...       78.0   300.0  16.74   4.62   0.67   0.19   0.50   \n",
      "473  0.590     ...       48.0   141.0  16.92   4.62   0.79   0.29   0.58   \n",
      "474  0.731     ...       30.0   119.0   6.69   1.88   0.16   0.06   0.41   \n",
      "475  0.500     ...       47.0   161.0   9.53   2.86   0.58   0.19   0.35   \n",
      "\n",
      "     TOV/G  PTS/G     2018-19  \n",
      "0     0.33   4.71   5455236.0  \n",
      "1     1.68  13.89  24157303.0  \n",
      "2     0.96   6.91   2955840.0  \n",
      "3     0.05   0.57    685341.0  \n",
      "4     1.48  23.13  22347015.0  \n",
      "5     1.14   8.15   2034120.0  \n",
      "6     1.14   9.33   6957105.0  \n",
      "7     0.42   6.21   2516048.0  \n",
      "8     1.27   7.91   8641000.0  \n",
      "9     0.64   9.35  20421546.0  \n",
      "10    0.18   1.18   1378242.0  \n",
      "11    2.97  26.85  24157303.0  \n",
      "12    1.27  16.17  25599488.0  \n",
      "13    0.61   5.92   1952760.0  \n",
      "14    0.54   2.00   1349383.0  \n",
      "15    0.78  11.67  15000000.0  \n",
      "16    0.79   2.84   7464912.0  \n",
      "17    0.50   1.22  11286516.0  \n",
      "18    0.36   1.29  11286516.0  \n",
      "19    1.00   1.00  11286516.0  \n",
      "20    1.64  10.21   7250000.0  \n",
      "21    0.43   3.30   1378242.0  \n",
      "22    0.62   2.45   4544400.0  \n",
      "23    0.57   5.43   1544951.0  \n",
      "24    2.62  10.15   7461960.0  \n",
      "25    2.07  11.61   3710850.0  \n",
      "26    1.53  18.86  24107258.0  \n",
      "27    1.84  15.65  12000000.0  \n",
      "28    2.05  11.56  24000000.0  \n",
      "29    1.18   7.87   8575916.0  \n",
      "..     ...    ...         ...  \n",
      "446   1.91  16.47  12750000.0  \n",
      "447   2.09  11.42   2393887.0  \n",
      "448   2.00  11.15   2393887.0  \n",
      "449   2.29  12.00   2393887.0  \n",
      "450   2.33  14.30  11550000.0  \n",
      "451   2.24  22.12  12000000.0  \n",
      "452   3.85  19.44  19169800.0  \n",
      "453   1.53   9.70   1349383.0  \n",
      "454   2.33  14.12   2526840.0  \n",
      "455   1.31  19.55  11750000.0  \n",
      "456   4.76  25.35  35350000.0  \n",
      "457   0.35   3.18   1667160.0  \n",
      "458   1.70  13.96  25434263.0  \n",
      "459   1.68  17.71  25250000.0  \n",
      "460   2.96  22.56   8000000.0  \n",
      "461   0.85   9.54  14087500.0  \n",
      "462   0.90   6.33   1512601.0  \n",
      "463   0.25   1.25   1512601.0  \n",
      "464   1.06   7.53   1512601.0  \n",
      "465   0.18   0.95   2534280.0  \n",
      "466   1.13   7.78   3448926.0  \n",
      "467   1.13   8.04   2536898.0  \n",
      "468   0.36   2.39   2667600.0  \n",
      "469   1.30  11.79  13764045.0  \n",
      "470   1.00   7.06  13528090.0  \n",
      "471   0.71   6.68   1933941.0  \n",
      "472   0.83   7.14   1933941.0  \n",
      "473   0.50   5.88   1933941.0  \n",
      "474   0.34   3.72   1952760.0  \n",
      "475   0.60   3.74   1544951.0  \n",
      "\n",
      "[476 rows x 37 columns]\n"
     ]
    }
   ],
   "source": [
    "ml_data = totals.merge(df_contracts, on=\"Player\")\n",
    "print(ml_data)"
   ]
  },
  {
   "cell_type": "code",
   "execution_count": 80,
   "metadata": {},
   "outputs": [
    {
     "data": {
      "text/plain": [
       "Player       object\n",
       "Pos        category\n",
       "Age           int32\n",
       "Tm         category\n",
       "G           float64\n",
       "GS          float64\n",
       "MP          float64\n",
       "FG          float64\n",
       "FGA         float64\n",
       "FG%         float64\n",
       "3P          float64\n",
       "3PA         float64\n",
       "3P%         float64\n",
       "2P          float64\n",
       "2PA         float64\n",
       "2P%         float64\n",
       "eFG%        float64\n",
       "FT          float64\n",
       "FTA         float64\n",
       "FT%         float64\n",
       "ORB         float64\n",
       "DRB         float64\n",
       "TRB         float64\n",
       "AST         float64\n",
       "STL         float64\n",
       "BLK         float64\n",
       "TOV         float64\n",
       "PF          float64\n",
       "PTS         float64\n",
       "MP/G        float64\n",
       "TRB/G       float64\n",
       "AST/G       float64\n",
       "STL/G       float64\n",
       "BLK/G       float64\n",
       "TOV/G       float64\n",
       "PTS/G       float64\n",
       "2018-19     float64\n",
       "dtype: object"
      ]
     },
     "execution_count": 80,
     "metadata": {},
     "output_type": "execute_result"
    }
   ],
   "source": [
    "ml_data[\"Age\"] = ml_data.Age.astype(int)\n",
    "ml_data[\"Pos\"] = ml_data.Pos.astype(\"category\")\n",
    "ml_data[\"Tm\"] = ml_data.Tm.astype(\"category\")\n",
    "ml_data.dtypes"
   ]
  },
  {
   "cell_type": "code",
   "execution_count": null,
   "metadata": {},
   "outputs": [],
   "source": []
  },
  {
   "cell_type": "code",
   "execution_count": 88,
   "metadata": {},
   "outputs": [],
   "source": [
    "import bokeh.plotting as bp\n",
    "import bokeh.models as bm\n",
    "import bokeh.io as bi"
   ]
  },
  {
   "cell_type": "code",
   "execution_count": 92,
   "metadata": {},
   "outputs": [],
   "source": [
    "source = bp.ColumnDataSource(ml_data)\n",
    "hover = bm.HoverTool(tooltips=[(\"Player\", \"@Player\"), (\"Position\", \"@Pos\"),\n",
    "                               (\"Tm\", \"@Tm\")])\n",
    "plot = bp.figure(title=\"2017-2018 NBA Season\", title_location = \"above\",\n",
    "                 x_axis_label= \"Points Scored\",\n",
    "                 y_axis_label=\"2018-19 Salary\",\n",
    "                 tools=[hover, \"pan\", \"wheel_zoom\"])\n",
    "\n",
    "plot.circle(x=\"PTS/G\", y=\"2018-19\", source= source)\n",
    "bi.show(plot)"
   ]
  },
  {
   "cell_type": "code",
   "execution_count": null,
   "metadata": {},
   "outputs": [],
   "source": []
  }
 ],
 "metadata": {
  "kernelspec": {
   "display_name": "Python 3",
   "language": "python",
   "name": "python3"
  },
  "language_info": {
   "codemirror_mode": {
    "name": "ipython",
    "version": 3
   },
   "file_extension": ".py",
   "mimetype": "text/x-python",
   "name": "python",
   "nbconvert_exporter": "python",
   "pygments_lexer": "ipython3",
   "version": "3.6.5"
  }
 },
 "nbformat": 4,
 "nbformat_minor": 2
}
