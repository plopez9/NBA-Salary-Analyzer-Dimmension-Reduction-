{
 "cells": [
  {
   "cell_type": "code",
   "execution_count": 16,
   "metadata": {},
   "outputs": [],
   "source": [
    "import pandas as pd \n",
    "import numpy as np\n",
    "import sqlite3 as sq\n",
    "from sqlalchemy import create_engine\n",
    "import matplotlib.pyplot as plt"
   ]
  },
  {
   "cell_type": "code",
   "execution_count": null,
   "metadata": {},
   "outputs": [],
   "source": []
  },
  {
   "cell_type": "code",
   "execution_count": 3,
   "metadata": {},
   "outputs": [],
   "source": [
    "engine=create_engine(r\"sqlite:///C:\\Users\\Lopezped\\Documents\\GitHub\\NBA-Database-Creator\\NBA_data.db\")"
   ]
  },
  {
   "cell_type": "code",
   "execution_count": 4,
   "metadata": {},
   "outputs": [],
   "source": [
    "connection = sq.connect(\"NBA_data.db\")\n",
    "c = connection.cursor()"
   ]
  },
  {
   "cell_type": "code",
   "execution_count": 5,
   "metadata": {},
   "outputs": [
    {
     "data": {
      "text/plain": [
       "['Player Contracts', 'Player Totals']"
      ]
     },
     "execution_count": 5,
     "metadata": {},
     "output_type": "execute_result"
    }
   ],
   "source": [
    "engine.table_names()"
   ]
  },
  {
   "cell_type": "code",
   "execution_count": 6,
   "metadata": {},
   "outputs": [],
   "source": [
    "contracts = pd.read_sql_table(table_name=\"Player Contracts\", con = engine)\n",
    "totals = pd.read_sql_table(table_name=\"Player Totals\", con = engine)"
   ]
  },
  {
   "cell_type": "code",
   "execution_count": null,
   "metadata": {},
   "outputs": [],
   "source": []
  },
  {
   "cell_type": "code",
   "execution_count": 7,
   "metadata": {},
   "outputs": [
    {
     "name": "stdout",
     "output_type": "stream",
     "text": [
      "              Player     2018-19\n",
      "0      Stephen Curry  37457154.0\n",
      "1         Chris Paul  35654150.0\n",
      "2       LeBron James  35654150.0\n",
      "3  Russell Westbrook  35350000.0\n",
      "4      Blake Griffin  31873932.0\n"
     ]
    }
   ],
   "source": [
    "df_contracts= contracts.drop(labels=[\"Tm\", \"2019-20\", \"2020-21\", \"2021-22\", \"2022-23\", \"2023-24\", \"Signed Using\", \"Guaranteed\"], axis=1).drop_duplicates(\"Player\")\n",
    "print(df_contracts.head(5))"
   ]
  },
  {
   "cell_type": "code",
   "execution_count": 8,
   "metadata": {},
   "outputs": [],
   "source": [
    "ml_data = totals.merge(df_contracts, on=\"Player\")"
   ]
  },
  {
   "cell_type": "code",
   "execution_count": 82,
   "metadata": {},
   "outputs": [
    {
     "data": {
      "text/plain": [
       "Player       object\n",
       "Pos        category\n",
       "Age           int32\n",
       "Tm         category\n",
       "G           float64\n",
       "GS          float64\n",
       "MP          float64\n",
       "FG          float64\n",
       "FGA         float64\n",
       "FG%         float64\n",
       "3P          float64\n",
       "3PA         float64\n",
       "3P%         float64\n",
       "2P          float64\n",
       "2PA         float64\n",
       "2P%         float64\n",
       "eFG%        float64\n",
       "FT          float64\n",
       "FTA         float64\n",
       "FT%         float64\n",
       "ORB         float64\n",
       "DRB         float64\n",
       "TRB         float64\n",
       "AST         float64\n",
       "STL         float64\n",
       "BLK         float64\n",
       "TOV         float64\n",
       "PF          float64\n",
       "PTS         float64\n",
       "MP/G        float64\n",
       "TRB/G       float64\n",
       "AST/G       float64\n",
       "STL/G       float64\n",
       "BLK/G       float64\n",
       "TOV/G       float64\n",
       "PTS/G       float64\n",
       "2018-19     float64\n",
       "dtype: object"
      ]
     },
     "execution_count": 82,
     "metadata": {},
     "output_type": "execute_result"
    }
   ],
   "source": [
    "ml_data[\"Age\"] = ml_data.Age.astype(int)\n",
    "ml_data[\"Pos\"] = ml_data.Pos.astype(\"category\")\n",
    "ml_data[\"Tm\"] = ml_data.Tm.astype(\"category\")\n",
    "ml_data.dtypes"
   ]
  },
  {
   "cell_type": "code",
   "execution_count": null,
   "metadata": {},
   "outputs": [],
   "source": []
  },
  {
   "cell_type": "code",
   "execution_count": 63,
   "metadata": {},
   "outputs": [],
   "source": [
    "from sklearn.preprocessing import StandardScaler\n",
    "from sklearn.decomposition import PCA\n",
    "from sklearn.pipeline import make_pipeline"
   ]
  },
  {
   "cell_type": "code",
   "execution_count": 84,
   "metadata": {},
   "outputs": [
    {
     "data": {
      "image/png": "[encoded data removed]",
      "text/plain": [
       "<Figure size 432x288 with 1 Axes>"
      ]
     },
     "metadata": {},
     "output_type": "display_data"
    }
   ],
   "source": [
    "#Find Intrinsic Dimmensions by Plotting Feature Variance\n",
    "\n",
    "features = ml_data.drop(labels=[\"Player\", \"Tm\", \"2018-19\", \"Pos\", \"MP\", \"TRB\", \"AST\", \"STL\", \"BLK\", \"TOV\", \"PTS\"], axis=1).columns.values\n",
    "x = ml_data.loc[:, features].fillna(0).values\n",
    "y = ml_data.loc[:, [\"2018-19\"]].values\n",
    "\n",
    "pca1 =PCA()\n",
    "scaler = StandardScaler()\n",
    "\n",
    "pipeline1 = make_pipeline(scaler, pca1)\n",
    "pipeline1.fit(x)\n",
    "\n",
    "min_feat = range(pca1.n_components_)\n",
    "plt.bar(min_feat, pca1.explained_variance_)\n",
    "plt.xlabel('PCA feature')\n",
    "plt.ylabel('variance')\n",
    "plt.show()"
   ]
  },
  {
   "cell_type": "code",
   "execution_count": 124,
   "metadata": {},
   "outputs": [
    {
     "name": "stdout",
     "output_type": "stream",
     "text": [
      "        Age         G        GS        FG       FGA       FG%        3P  \\\n",
      "0  0.036239  0.202471  0.231596  0.268445  0.264416  0.065079  0.177674   \n",
      "1 -0.039568  0.025261 -0.000738 -0.029871 -0.098587  0.403319 -0.292394   \n",
      "2 -0.142950 -0.113583  0.049504  0.013498  0.004169 -0.348032 -0.216889   \n",
      "3  0.021884 -0.429919 -0.068764 -0.069463 -0.086396  0.186497 -0.196499   \n",
      "4 -0.833170  0.019592 -0.006759  0.102096  0.110818  0.092306  0.068626   \n",
      "5 -0.459739 -0.057533 -0.064867 -0.112196 -0.115097 -0.059804 -0.149507   \n",
      "6 -0.036117  0.021474  0.252961 -0.106755 -0.079278 -0.049761  0.157573   \n",
      "\n",
      "        3PA       3P%        2P    ...          ORB       DRB        PF  \\\n",
      "0  0.183194  0.076120  0.255785    ...     0.165767  0.235140  0.228120   \n",
      "1 -0.297532 -0.222642  0.088051    ...     0.343891  0.170962  0.093659   \n",
      "2 -0.191875 -0.337541  0.109373    ...     0.160773  0.102376 -0.002940   \n",
      "3 -0.189589 -0.072571 -0.001856    ...    -0.155029 -0.177767 -0.287421   \n",
      "4  0.078101 -0.023565  0.096832    ...    -0.099897 -0.094781 -0.004802   \n",
      "5 -0.153889  0.510480 -0.074746    ...     0.105059  0.074336  0.018787   \n",
      "6  0.145711  0.058759 -0.199261    ...     0.034235  0.110919  0.164118   \n",
      "\n",
      "       MP/G     TRB/G     AST/G     STL/G     BLK/G     TOV/G     PTS/G  \n",
      "0  0.243674  0.192269  0.174355  0.178067  0.137109  0.205567  0.243597  \n",
      "1 -0.104832  0.260848 -0.194964 -0.099566  0.277260 -0.107172 -0.110715  \n",
      "2 -0.038373  0.157918  0.027931 -0.041575  0.163034  0.117487 -0.014282  \n",
      "3  0.111710  0.028811  0.417027  0.301694  0.021421  0.406551  0.235391  \n",
      "4 -0.127164 -0.208302 -0.013756  0.058843 -0.188898 -0.050415 -0.019335  \n",
      "5  0.116299  0.203497 -0.051438  0.048987  0.291858  0.067317  0.050640  \n",
      "6  0.210208  0.149162  0.050830  0.466518  0.100644  0.011190 -0.127534  \n",
      "\n",
      "[7 rows x 26 columns]\n"
     ]
    },
    {
     "data": {
      "text/plain": [
       "0.2684450402400547"
      ]
     },
     "execution_count": 124,
     "metadata": {},
     "output_type": "execute_result"
    }
   ],
   "source": [
    "#n components = 8 accounts for 90% of the variance\n",
    "pca = PCA(n_components = 7)\n",
    "pipeline=make_pipeline(scaler, pca)\n",
    "reduced_features = pipeline.fit_transform(x)\n",
    "\n",
    "reduced_data = pd.DataFrame(data = reduced_features)\n",
    "reduced_data = pd.concat([reduced_data, ml_data[[\"2018-19\"]]], axis=1)\n",
    "\n",
    "test_frame = pd.DataFrame(data =pca.components_, columns= features, index = range(7))\n",
    "print(test_frame)\n",
    "test_frame.loc[0].max()"
   ]
  },
  {
   "cell_type": "code",
   "execution_count": null,
   "metadata": {},
   "outputs": [],
   "source": []
  },
  {
   "cell_type": "code",
   "execution_count": null,
   "metadata": {},
   "outputs": [],
   "source": []
  },
  {
   "cell_type": "code",
   "execution_count": 125,
   "metadata": {},
   "outputs": [],
   "source": [
    "import bokeh.plotting as bp\n",
    "import bokeh.models as bm\n",
    "import bokeh.io as bi"
   ]
  },
  {
   "cell_type": "code",
   "execution_count": 126,
   "metadata": {},
   "outputs": [],
   "source": [
    "source = bp.ColumnDataSource(ml_data)\n",
    "hover = bm.HoverTool(tooltips=[(\"Player\", \"@Player\"), (\"Position\", \"@Pos\"),\n",
    "                               (\"Tm\", \"@Tm\")])\n",
    "plot = bp.figure(title=\"2017-2018 NBA Season\", title_location = \"above\",\n",
    "                 x_axis_label= \"Points Scored\",\n",
    "                 y_axis_label=\"2018-19 Salary\",\n",
    "                 tools=[hover, \"pan\", \"wheel_zoom\"])\n",
    "\n",
    "plot.circle(x=\"PTS/G\", y=\"2018-19\", source= source)\n",
    "bi.show(plot)"
   ]
  },
  {
   "cell_type": "code",
   "execution_count": null,
   "metadata": {},
   "outputs": [],
   "source": []
  }
 ],
 "metadata": {
  "kernelspec": {
   "display_name": "Python 3",
   "language": "python",
   "name": "python3"
  },
  "language_info": {
   "codemirror_mode": {
    "name": "ipython",
    "version": 3
   },
   "file_extension": ".py",
   "mimetype": "text/x-python",
   "name": "python",
   "nbconvert_exporter": "python",
   "pygments_lexer": "ipython3",
   "version": "3.6.5"
  }
 },
 "nbformat": 4,
 "nbformat_minor": 2
}
