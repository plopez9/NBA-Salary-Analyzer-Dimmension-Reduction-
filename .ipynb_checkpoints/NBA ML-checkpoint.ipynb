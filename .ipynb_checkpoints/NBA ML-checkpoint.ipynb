{
 "cells": [
  {
   "cell_type": "code",
   "execution_count": 16,
   "metadata": {},
   "outputs": [],
   "source": [
    "import pandas as pd \n",
    "import numpy as np\n",
    "import sqlite3 as sq\n",
    "from sqlalchemy import create_engine\n",
    "import matplotlib.pyplot as plt"
   ]
  },
  {
   "cell_type": "code",
   "execution_count": null,
   "metadata": {},
   "outputs": [],
   "source": []
  },
  {
   "cell_type": "code",
   "execution_count": 3,
   "metadata": {},
   "outputs": [],
   "source": [
    "engine=create_engine(r\"sqlite:///C:\\Users\\Lopezped\\Documents\\GitHub\\NBA-Database-Creator\\NBA_data.db\")"
   ]
  },
  {
   "cell_type": "code",
   "execution_count": 4,
   "metadata": {},
   "outputs": [],
   "source": [
    "connection = sq.connect(\"NBA_data.db\")\n",
    "c = connection.cursor()"
   ]
  },
  {
   "cell_type": "code",
   "execution_count": 5,
   "metadata": {},
   "outputs": [
    {
     "data": {
      "text/plain": [
       "['Player Contracts', 'Player Totals']"
      ]
     },
     "execution_count": 5,
     "metadata": {},
     "output_type": "execute_result"
    }
   ],
   "source": [
    "engine.table_names()"
   ]
  },
  {
   "cell_type": "code",
   "execution_count": 6,
   "metadata": {},
   "outputs": [],
   "source": [
    "contracts = pd.read_sql_table(table_name=\"Player Contracts\", con = engine)\n",
    "totals = pd.read_sql_table(table_name=\"Player Totals\", con = engine)"
   ]
  },
  {
   "cell_type": "code",
   "execution_count": null,
   "metadata": {},
   "outputs": [],
   "source": []
  },
  {
   "cell_type": "code",
   "execution_count": 7,
   "metadata": {},
   "outputs": [
    {
     "name": "stdout",
     "output_type": "stream",
     "text": [
      "              Player     2018-19\n",
      "0      Stephen Curry  37457154.0\n",
      "1         Chris Paul  35654150.0\n",
      "2       LeBron James  35654150.0\n",
      "3  Russell Westbrook  35350000.0\n",
      "4      Blake Griffin  31873932.0\n"
     ]
    }
   ],
   "source": [
    "df_contracts= contracts.drop(labels=[\"Tm\", \"2019-20\", \"2020-21\", \"2021-22\", \"2022-23\", \"2023-24\", \"Signed Using\", \"Guaranteed\"], axis=1).drop_duplicates(\"Player\")\n",
    "print(df_contracts.head(5))"
   ]
  },
  {
   "cell_type": "code",
   "execution_count": 8,
   "metadata": {},
   "outputs": [],
   "source": [
    "ml_data = totals.merge(df_contracts, on=\"Player\")"
   ]
  },
  {
   "cell_type": "code",
   "execution_count": 82,
   "metadata": {},
   "outputs": [
    {
     "data": {
      "text/plain": [
       "Player       object\n",
       "Pos        category\n",
       "Age           int32\n",
       "Tm         category\n",
       "G           float64\n",
       "GS          float64\n",
       "MP          float64\n",
       "FG          float64\n",
       "FGA         float64\n",
       "FG%         float64\n",
       "3P          float64\n",
       "3PA         float64\n",
       "3P%         float64\n",
       "2P          float64\n",
       "2PA         float64\n",
       "2P%         float64\n",
       "eFG%        float64\n",
       "FT          float64\n",
       "FTA         float64\n",
       "FT%         float64\n",
       "ORB         float64\n",
       "DRB         float64\n",
       "TRB         float64\n",
       "AST         float64\n",
       "STL         float64\n",
       "BLK         float64\n",
       "TOV         float64\n",
       "PF          float64\n",
       "PTS         float64\n",
       "MP/G        float64\n",
       "TRB/G       float64\n",
       "AST/G       float64\n",
       "STL/G       float64\n",
       "BLK/G       float64\n",
       "TOV/G       float64\n",
       "PTS/G       float64\n",
       "2018-19     float64\n",
       "dtype: object"
      ]
     },
     "execution_count": 82,
     "metadata": {},
     "output_type": "execute_result"
    }
   ],
   "source": [
    "ml_data[\"Age\"] = ml_data.Age.astype(int)\n",
    "ml_data[\"Pos\"] = ml_data.Pos.astype(\"category\")\n",
    "ml_data[\"Tm\"] = ml_data.Tm.astype(\"category\")\n",
    "ml_data.dtypes"
   ]
  },
  {
   "cell_type": "code",
   "execution_count": null,
   "metadata": {},
   "outputs": [],
   "source": []
  },
  {
   "cell_type": "code",
   "execution_count": 63,
   "metadata": {},
   "outputs": [],
   "source": [
    "from sklearn.preprocessing import StandardScaler\n",
    "from sklearn.decomposition import PCA\n",
    "from sklearn.pipeline import make_pipeline"
   ]
  },
  {
   "cell_type": "code",
   "execution_count": 161,
   "metadata": {},
   "outputs": [
    {
     "data": {
      "image/png": "[encoded data removed]",
      "text/plain": [
       "<Figure size 432x288 with 1 Axes>"
      ]
     },
     "metadata": {},
     "output_type": "display_data"
    },
    {
     "name": "stdout",
     "output_type": "stream",
     "text": [
      "FG\n",
      "[0.54408568 0.12654401 0.06615541 0.05147466 0.03422292 0.02960053\n",
      " 0.02712602 0.02187231 0.0181446  0.01721656]\n",
      "0.9086171081775914\n"
     ]
    }
   ],
   "source": [
    "#Find Intrinsic Dimmensions by Plotting Feature Variance\n",
    "\n",
    "features = ml_data.drop(labels=[\"Player\", \"Tm\", \"2018-19\", \"Pos\"], axis=1).columns.values\n",
    "x = ml_data.loc[:, features].fillna(0).values\n",
    "y = ml_data.loc[:, [\"2018-19\"]].values\n",
    "\n",
    "pca =PCA(n_components=10)\n",
    "scaler = StandardScaler()\n",
    "\n",
    "pipeline1 = make_pipeline(scaler, pca)\n",
    "pipeline1.fit_transform(x)\n",
    "\n",
    "min_feat = range(pca.n_components_)\n",
    "plt.bar(min_feat, pca.explained_variance_)\n",
    "plt.xlabel('PCA feature')\n",
    "plt.ylabel('variance')\n",
    "plt.show()\n",
    "\n",
    "test_frame = pd.DataFrame(data =pca.components_, columns = features)\n",
    "\n",
    "print(test_frame.iloc[0,:].idxmax(axis=0))\n",
    "\n",
    "print(pca.explained_variance_ratio_)\n",
    "\n",
    "print(1-pca.noise_variance_)\n"
   ]
  },
  {
   "cell_type": "code",
   "execution_count": null,
   "metadata": {},
   "outputs": [],
   "source": []
  },
  {
   "cell_type": "code",
   "execution_count": null,
   "metadata": {},
   "outputs": [],
   "source": []
  },
  {
   "cell_type": "code",
   "execution_count": 125,
   "metadata": {},
   "outputs": [],
   "source": [
    "import bokeh.plotting as bp\n",
    "import bokeh.models as bm\n",
    "import bokeh.io as bi"
   ]
  },
  {
   "cell_type": "code",
   "execution_count": 162,
   "metadata": {},
   "outputs": [],
   "source": [
    "source = bp.ColumnDataSource(ml_data)\n",
    "hover = bm.HoverTool(tooltips=[(\"Player\", \"@Player\"), (\"Position\", \"@Pos\"),\n",
    "                               (\"Tm\", \"@Tm\")])\n",
    "plot = bp.figure(title=\"2017-2018 NBA Season\", title_location = \"above\",\n",
    "                 x_axis_label= \"Points Scored\",\n",
    "                 y_axis_label=\"2018-19 Salary\",\n",
    "                 tools=[hover, \"pan\", \"wheel_zoom\"])\n",
    "\n",
    "plot.circle(x=\"FG\", y=\"2018-19\", source= source)\n",
    "bi.show(plot)"
   ]
  },
  {
   "cell_type": "code",
   "execution_count": null,
   "metadata": {},
   "outputs": [],
   "source": []
  }
 ],
 "metadata": {
  "kernelspec": {
   "display_name": "Python 3",
   "language": "python",
   "name": "python3"
  },
  "language_info": {
   "codemirror_mode": {
    "name": "ipython",
    "version": 3
   },
   "file_extension": ".py",
   "mimetype": "text/x-python",
   "name": "python",
   "nbconvert_exporter": "python",
   "pygments_lexer": "ipython3",
   "version": "3.6.5"
  }
 },
 "nbformat": 4,
 "nbformat_minor": 2
}
